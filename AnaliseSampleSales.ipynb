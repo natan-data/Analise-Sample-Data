{
 "cells": [
  {
   "cell_type": "markdown",
   "id": "ff9a7674-f4fb-4f12-ade2-3ca3041b5560",
   "metadata": {},
   "source": [
    "# Analise dataset: Sample Sales Data\n",
    "Por: Natan Carvalho\\\n",
    "Analise para fins de prática de estudo de Pandas, numpy e matplotlib.\\\n",
    "Dataset disponível no Kaggle: https://www.kaggle.com/datasets/kyanyoga/sample-sales-data"
   ]
  },
  {
   "cell_type": "markdown",
   "id": "cc93b4b6-e018-468e-9320-a845dc1aca6e",
   "metadata": {},
   "source": [
    "## Importando bibliotecas que serão utilizadas e fazendo configurações iniciais."
   ]
  },
  {
   "cell_type": "code",
   "execution_count": 87,
   "id": "094cc5de-00d6-4f02-827b-35a205c36746",
   "metadata": {},
   "outputs": [],
   "source": [
    "# Importando bibliotecas\n",
    "import pandas as pd\n",
    "import numpy as np\n",
    "import matplotlib.pyplot as plt\n",
    "import warnings"
   ]
  },
  {
   "cell_type": "code",
   "execution_count": 88,
   "id": "7857666c-249b-43b4-9a9b-846f60e47d5e",
   "metadata": {},
   "outputs": [],
   "source": [
    "# Configurando casas decimais do pandas para 3\n",
    "pd.set_option('display.precision', 3)\n",
    "# Configurando exibição máxima de colunas para 30\n",
    "pd.set_option('display.max_columns', 30)\n",
    "# Configurando para ignorar avisos\n",
    "warnings.filterwarnings(\"ignore\")"
   ]
  },
  {
   "cell_type": "markdown",
   "id": "2d8f337f-383e-4ab9-9c4a-880f74a57dd7",
   "metadata": {},
   "source": [
    "## Trazendo dataset e fazendo verificações iniciais.\n",
    "Nota-se que o dataset está em formato .csv com os separadores padrão, portanto não será necessário indicar outro separador no momento da importação do mesmo."
   ]
  },
  {
   "cell_type": "code",
   "execution_count": 90,
   "id": "1426481f-05fb-4596-82b1-57d978d6d3d7",
   "metadata": {},
   "outputs": [],
   "source": [
    "# Armazenando dataset em variável\n",
    "df = pd.read_csv('./Dataset/sales_data_sample.csv')"
   ]
  },
  {
   "cell_type": "code",
   "execution_count": 91,
   "id": "68d9acf2-950e-4382-88cd-c0ed73011948",
   "metadata": {},
   "outputs": [
    {
     "data": {
      "text/html": [
       "<div>\n",
       "<style scoped>\n",
       "    .dataframe tbody tr th:only-of-type {\n",
       "        vertical-align: middle;\n",
       "    }\n",
       "\n",
       "    .dataframe tbody tr th {\n",
       "        vertical-align: top;\n",
       "    }\n",
       "\n",
       "    .dataframe thead th {\n",
       "        text-align: right;\n",
       "    }\n",
       "</style>\n",
       "<table border=\"1\" class=\"dataframe\">\n",
       "  <thead>\n",
       "    <tr style=\"text-align: right;\">\n",
       "      <th></th>\n",
       "      <th>ORDERNUMBER</th>\n",
       "      <th>QUANTITYORDERED</th>\n",
       "      <th>PRICEEACH</th>\n",
       "      <th>ORDERLINENUMBER</th>\n",
       "      <th>SALES</th>\n",
       "      <th>ORDERDATE</th>\n",
       "      <th>STATUS</th>\n",
       "      <th>QTR_ID</th>\n",
       "      <th>MONTH_ID</th>\n",
       "      <th>YEAR_ID</th>\n",
       "      <th>PRODUCTLINE</th>\n",
       "      <th>MSRP</th>\n",
       "      <th>PRODUCTCODE</th>\n",
       "      <th>CUSTOMERNAME</th>\n",
       "      <th>PHONE</th>\n",
       "      <th>ADDRESSLINE1</th>\n",
       "      <th>ADDRESSLINE2</th>\n",
       "      <th>CITY</th>\n",
       "      <th>STATE</th>\n",
       "      <th>POSTALCODE</th>\n",
       "      <th>COUNTRY</th>\n",
       "      <th>TERRITORY</th>\n",
       "      <th>CONTACTLASTNAME</th>\n",
       "      <th>CONTACTFIRSTNAME</th>\n",
       "      <th>DEALSIZE</th>\n",
       "    </tr>\n",
       "  </thead>\n",
       "  <tbody>\n",
       "    <tr>\n",
       "      <th>0</th>\n",
       "      <td>10107</td>\n",
       "      <td>30</td>\n",
       "      <td>95.70</td>\n",
       "      <td>2</td>\n",
       "      <td>2871.00</td>\n",
       "      <td>2/24/2003 0:00</td>\n",
       "      <td>Shipped</td>\n",
       "      <td>1</td>\n",
       "      <td>2</td>\n",
       "      <td>2003</td>\n",
       "      <td>Motorcycles</td>\n",
       "      <td>95</td>\n",
       "      <td>S10_1678</td>\n",
       "      <td>Land of Toys Inc.</td>\n",
       "      <td>2125557818</td>\n",
       "      <td>897 Long Airport Avenue</td>\n",
       "      <td>NaN</td>\n",
       "      <td>NYC</td>\n",
       "      <td>NY</td>\n",
       "      <td>10022</td>\n",
       "      <td>USA</td>\n",
       "      <td>NaN</td>\n",
       "      <td>Yu</td>\n",
       "      <td>Kwai</td>\n",
       "      <td>Small</td>\n",
       "    </tr>\n",
       "    <tr>\n",
       "      <th>1</th>\n",
       "      <td>10121</td>\n",
       "      <td>34</td>\n",
       "      <td>81.35</td>\n",
       "      <td>5</td>\n",
       "      <td>2765.90</td>\n",
       "      <td>5/7/2003 0:00</td>\n",
       "      <td>Shipped</td>\n",
       "      <td>2</td>\n",
       "      <td>5</td>\n",
       "      <td>2003</td>\n",
       "      <td>Motorcycles</td>\n",
       "      <td>95</td>\n",
       "      <td>S10_1678</td>\n",
       "      <td>Reims Collectables</td>\n",
       "      <td>26.47.1555</td>\n",
       "      <td>59 rue de l'Abbaye</td>\n",
       "      <td>NaN</td>\n",
       "      <td>Reims</td>\n",
       "      <td>NaN</td>\n",
       "      <td>51100</td>\n",
       "      <td>France</td>\n",
       "      <td>EMEA</td>\n",
       "      <td>Henriot</td>\n",
       "      <td>Paul</td>\n",
       "      <td>Small</td>\n",
       "    </tr>\n",
       "    <tr>\n",
       "      <th>2</th>\n",
       "      <td>10134</td>\n",
       "      <td>41</td>\n",
       "      <td>94.74</td>\n",
       "      <td>2</td>\n",
       "      <td>3884.34</td>\n",
       "      <td>7/1/2003 0:00</td>\n",
       "      <td>Shipped</td>\n",
       "      <td>3</td>\n",
       "      <td>7</td>\n",
       "      <td>2003</td>\n",
       "      <td>Motorcycles</td>\n",
       "      <td>95</td>\n",
       "      <td>S10_1678</td>\n",
       "      <td>Lyon Souveniers</td>\n",
       "      <td>+33 1 46 62 7555</td>\n",
       "      <td>27 rue du Colonel Pierre Avia</td>\n",
       "      <td>NaN</td>\n",
       "      <td>Paris</td>\n",
       "      <td>NaN</td>\n",
       "      <td>75508</td>\n",
       "      <td>France</td>\n",
       "      <td>EMEA</td>\n",
       "      <td>Da Cunha</td>\n",
       "      <td>Daniel</td>\n",
       "      <td>Medium</td>\n",
       "    </tr>\n",
       "  </tbody>\n",
       "</table>\n",
       "</div>"
      ],
      "text/plain": [
       "   ORDERNUMBER  QUANTITYORDERED  PRICEEACH  ORDERLINENUMBER    SALES  \\\n",
       "0        10107               30      95.70                2  2871.00   \n",
       "1        10121               34      81.35                5  2765.90   \n",
       "2        10134               41      94.74                2  3884.34   \n",
       "\n",
       "        ORDERDATE   STATUS  QTR_ID  MONTH_ID  YEAR_ID  PRODUCTLINE  MSRP  \\\n",
       "0  2/24/2003 0:00  Shipped       1         2     2003  Motorcycles    95   \n",
       "1   5/7/2003 0:00  Shipped       2         5     2003  Motorcycles    95   \n",
       "2   7/1/2003 0:00  Shipped       3         7     2003  Motorcycles    95   \n",
       "\n",
       "  PRODUCTCODE        CUSTOMERNAME             PHONE  \\\n",
       "0    S10_1678   Land of Toys Inc.        2125557818   \n",
       "1    S10_1678  Reims Collectables        26.47.1555   \n",
       "2    S10_1678     Lyon Souveniers  +33 1 46 62 7555   \n",
       "\n",
       "                    ADDRESSLINE1 ADDRESSLINE2   CITY STATE POSTALCODE COUNTRY  \\\n",
       "0        897 Long Airport Avenue          NaN    NYC    NY      10022     USA   \n",
       "1             59 rue de l'Abbaye          NaN  Reims   NaN      51100  France   \n",
       "2  27 rue du Colonel Pierre Avia          NaN  Paris   NaN      75508  France   \n",
       "\n",
       "  TERRITORY CONTACTLASTNAME CONTACTFIRSTNAME DEALSIZE  \n",
       "0       NaN              Yu             Kwai    Small  \n",
       "1      EMEA         Henriot             Paul    Small  \n",
       "2      EMEA        Da Cunha           Daniel   Medium  "
      ]
     },
     "execution_count": 91,
     "metadata": {},
     "output_type": "execute_result"
    }
   ],
   "source": [
    "# Exibindo cabeçalho\n",
    "df.head(3)"
   ]
  },
  {
   "cell_type": "code",
   "execution_count": 92,
   "id": "7c934412-0475-4441-8b4b-b8fedc364b76",
   "metadata": {},
   "outputs": [
    {
     "data": {
      "text/html": [
       "<div>\n",
       "<style scoped>\n",
       "    .dataframe tbody tr th:only-of-type {\n",
       "        vertical-align: middle;\n",
       "    }\n",
       "\n",
       "    .dataframe tbody tr th {\n",
       "        vertical-align: top;\n",
       "    }\n",
       "\n",
       "    .dataframe thead th {\n",
       "        text-align: right;\n",
       "    }\n",
       "</style>\n",
       "<table border=\"1\" class=\"dataframe\">\n",
       "  <thead>\n",
       "    <tr style=\"text-align: right;\">\n",
       "      <th></th>\n",
       "      <th>ORDERNUMBER</th>\n",
       "      <th>QUANTITYORDERED</th>\n",
       "      <th>PRICEEACH</th>\n",
       "      <th>ORDERLINENUMBER</th>\n",
       "      <th>SALES</th>\n",
       "      <th>ORDERDATE</th>\n",
       "      <th>STATUS</th>\n",
       "      <th>QTR_ID</th>\n",
       "      <th>MONTH_ID</th>\n",
       "      <th>YEAR_ID</th>\n",
       "      <th>PRODUCTLINE</th>\n",
       "      <th>MSRP</th>\n",
       "      <th>PRODUCTCODE</th>\n",
       "      <th>CUSTOMERNAME</th>\n",
       "      <th>PHONE</th>\n",
       "      <th>ADDRESSLINE1</th>\n",
       "      <th>ADDRESSLINE2</th>\n",
       "      <th>CITY</th>\n",
       "      <th>STATE</th>\n",
       "      <th>POSTALCODE</th>\n",
       "      <th>COUNTRY</th>\n",
       "      <th>TERRITORY</th>\n",
       "      <th>CONTACTLASTNAME</th>\n",
       "      <th>CONTACTFIRSTNAME</th>\n",
       "      <th>DEALSIZE</th>\n",
       "    </tr>\n",
       "  </thead>\n",
       "  <tbody>\n",
       "    <tr>\n",
       "      <th>2820</th>\n",
       "      <td>10386</td>\n",
       "      <td>43</td>\n",
       "      <td>100.00</td>\n",
       "      <td>4</td>\n",
       "      <td>5417.57</td>\n",
       "      <td>3/1/2005 0:00</td>\n",
       "      <td>Resolved</td>\n",
       "      <td>1</td>\n",
       "      <td>3</td>\n",
       "      <td>2005</td>\n",
       "      <td>Ships</td>\n",
       "      <td>54</td>\n",
       "      <td>S72_3212</td>\n",
       "      <td>Euro Shopping Channel</td>\n",
       "      <td>(91) 555 94 44</td>\n",
       "      <td>C/ Moralzarzal, 86</td>\n",
       "      <td>NaN</td>\n",
       "      <td>Madrid</td>\n",
       "      <td>NaN</td>\n",
       "      <td>28034</td>\n",
       "      <td>Spain</td>\n",
       "      <td>EMEA</td>\n",
       "      <td>Freyre</td>\n",
       "      <td>Diego</td>\n",
       "      <td>Medium</td>\n",
       "    </tr>\n",
       "    <tr>\n",
       "      <th>2821</th>\n",
       "      <td>10397</td>\n",
       "      <td>34</td>\n",
       "      <td>62.24</td>\n",
       "      <td>1</td>\n",
       "      <td>2116.16</td>\n",
       "      <td>3/28/2005 0:00</td>\n",
       "      <td>Shipped</td>\n",
       "      <td>1</td>\n",
       "      <td>3</td>\n",
       "      <td>2005</td>\n",
       "      <td>Ships</td>\n",
       "      <td>54</td>\n",
       "      <td>S72_3212</td>\n",
       "      <td>Alpha Cognac</td>\n",
       "      <td>61.77.6555</td>\n",
       "      <td>1 rue Alsace-Lorraine</td>\n",
       "      <td>NaN</td>\n",
       "      <td>Toulouse</td>\n",
       "      <td>NaN</td>\n",
       "      <td>31000</td>\n",
       "      <td>France</td>\n",
       "      <td>EMEA</td>\n",
       "      <td>Roulet</td>\n",
       "      <td>Annette</td>\n",
       "      <td>Small</td>\n",
       "    </tr>\n",
       "    <tr>\n",
       "      <th>2822</th>\n",
       "      <td>10414</td>\n",
       "      <td>47</td>\n",
       "      <td>65.52</td>\n",
       "      <td>9</td>\n",
       "      <td>3079.44</td>\n",
       "      <td>5/6/2005 0:00</td>\n",
       "      <td>On Hold</td>\n",
       "      <td>2</td>\n",
       "      <td>5</td>\n",
       "      <td>2005</td>\n",
       "      <td>Ships</td>\n",
       "      <td>54</td>\n",
       "      <td>S72_3212</td>\n",
       "      <td>Gifts4AllAges.com</td>\n",
       "      <td>6175559555</td>\n",
       "      <td>8616 Spinnaker Dr.</td>\n",
       "      <td>NaN</td>\n",
       "      <td>Boston</td>\n",
       "      <td>MA</td>\n",
       "      <td>51003</td>\n",
       "      <td>USA</td>\n",
       "      <td>NaN</td>\n",
       "      <td>Yoshido</td>\n",
       "      <td>Juri</td>\n",
       "      <td>Medium</td>\n",
       "    </tr>\n",
       "  </tbody>\n",
       "</table>\n",
       "</div>"
      ],
      "text/plain": [
       "      ORDERNUMBER  QUANTITYORDERED  PRICEEACH  ORDERLINENUMBER    SALES  \\\n",
       "2820        10386               43     100.00                4  5417.57   \n",
       "2821        10397               34      62.24                1  2116.16   \n",
       "2822        10414               47      65.52                9  3079.44   \n",
       "\n",
       "           ORDERDATE    STATUS  QTR_ID  MONTH_ID  YEAR_ID PRODUCTLINE  MSRP  \\\n",
       "2820   3/1/2005 0:00  Resolved       1         3     2005       Ships    54   \n",
       "2821  3/28/2005 0:00   Shipped       1         3     2005       Ships    54   \n",
       "2822   5/6/2005 0:00   On Hold       2         5     2005       Ships    54   \n",
       "\n",
       "     PRODUCTCODE           CUSTOMERNAME           PHONE  \\\n",
       "2820    S72_3212  Euro Shopping Channel  (91) 555 94 44   \n",
       "2821    S72_3212           Alpha Cognac      61.77.6555   \n",
       "2822    S72_3212      Gifts4AllAges.com      6175559555   \n",
       "\n",
       "               ADDRESSLINE1 ADDRESSLINE2      CITY STATE POSTALCODE COUNTRY  \\\n",
       "2820     C/ Moralzarzal, 86          NaN    Madrid   NaN      28034   Spain   \n",
       "2821  1 rue Alsace-Lorraine          NaN  Toulouse   NaN      31000  France   \n",
       "2822     8616 Spinnaker Dr.          NaN    Boston    MA      51003     USA   \n",
       "\n",
       "     TERRITORY CONTACTLASTNAME CONTACTFIRSTNAME DEALSIZE  \n",
       "2820      EMEA          Freyre            Diego   Medium  \n",
       "2821      EMEA          Roulet          Annette    Small  \n",
       "2822       NaN         Yoshido             Juri   Medium  "
      ]
     },
     "execution_count": 92,
     "metadata": {},
     "output_type": "execute_result"
    }
   ],
   "source": [
    "# Exibindo final do dataset\n",
    "df.tail(3)"
   ]
  },
  {
   "cell_type": "code",
   "execution_count": 93,
   "id": "6b02af71-a889-4ee6-b47f-60203fa9388d",
   "metadata": {},
   "outputs": [
    {
     "name": "stdout",
     "output_type": "stream",
     "text": [
      "<class 'pandas.core.frame.DataFrame'>\n",
      "RangeIndex: 2823 entries, 0 to 2822\n",
      "Data columns (total 25 columns):\n",
      " #   Column            Non-Null Count  Dtype  \n",
      "---  ------            --------------  -----  \n",
      " 0   ORDERNUMBER       2823 non-null   int64  \n",
      " 1   QUANTITYORDERED   2823 non-null   int64  \n",
      " 2   PRICEEACH         2823 non-null   float64\n",
      " 3   ORDERLINENUMBER   2823 non-null   int64  \n",
      " 4   SALES             2823 non-null   float64\n",
      " 5   ORDERDATE         2823 non-null   object \n",
      " 6   STATUS            2823 non-null   object \n",
      " 7   QTR_ID            2823 non-null   int64  \n",
      " 8   MONTH_ID          2823 non-null   int64  \n",
      " 9   YEAR_ID           2823 non-null   int64  \n",
      " 10  PRODUCTLINE       2823 non-null   object \n",
      " 11  MSRP              2823 non-null   int64  \n",
      " 12  PRODUCTCODE       2823 non-null   object \n",
      " 13  CUSTOMERNAME      2823 non-null   object \n",
      " 14  PHONE             2823 non-null   object \n",
      " 15  ADDRESSLINE1      2823 non-null   object \n",
      " 16  ADDRESSLINE2      302 non-null    object \n",
      " 17  CITY              2823 non-null   object \n",
      " 18  STATE             1337 non-null   object \n",
      " 19  POSTALCODE        2747 non-null   object \n",
      " 20  COUNTRY           2823 non-null   object \n",
      " 21  TERRITORY         1749 non-null   object \n",
      " 22  CONTACTLASTNAME   2823 non-null   object \n",
      " 23  CONTACTFIRSTNAME  2823 non-null   object \n",
      " 24  DEALSIZE          2823 non-null   object \n",
      "dtypes: float64(2), int64(7), object(16)\n",
      "memory usage: 551.5+ KB\n"
     ]
    }
   ],
   "source": [
    "# Verificando informações do dataset\n",
    "df.info()"
   ]
  },
  {
   "cell_type": "markdown",
   "id": "02f4cbe2-a78c-4535-aa04-804bc8b356c4",
   "metadata": {},
   "source": [
    "***\n",
    "Inicialmente é possível verificar que o atributo **ORDERDATE** está em formato incorreto. Aparentemente vamos conseguir descartar algumas colunas que não serão utilizadas. Faremos mais algumas verificações antes de começar o tratamento dos dados."
   ]
  },
  {
   "cell_type": "code",
   "execution_count": 95,
   "id": "62399d88-5dc4-4a32-a465-b147f05b577f",
   "metadata": {},
   "outputs": [
    {
     "data": {
      "text/plain": [
       "ORDERNUMBER            0\n",
       "QUANTITYORDERED        0\n",
       "PRICEEACH              0\n",
       "ORDERLINENUMBER        0\n",
       "SALES                  0\n",
       "ORDERDATE              0\n",
       "STATUS                 0\n",
       "QTR_ID                 0\n",
       "MONTH_ID               0\n",
       "YEAR_ID                0\n",
       "PRODUCTLINE            0\n",
       "MSRP                   0\n",
       "PRODUCTCODE            0\n",
       "CUSTOMERNAME           0\n",
       "PHONE                  0\n",
       "ADDRESSLINE1           0\n",
       "ADDRESSLINE2        2521\n",
       "CITY                   0\n",
       "STATE               1486\n",
       "POSTALCODE            76\n",
       "COUNTRY                0\n",
       "TERRITORY           1074\n",
       "CONTACTLASTNAME        0\n",
       "CONTACTFIRSTNAME       0\n",
       "DEALSIZE               0\n",
       "dtype: int64"
      ]
     },
     "execution_count": 95,
     "metadata": {},
     "output_type": "execute_result"
    }
   ],
   "source": [
    "# Verificando valores nulos\n",
    "df.isna().sum()"
   ]
  },
  {
   "cell_type": "markdown",
   "id": "991a705e-fad6-43d5-83ea-7f50c696a531",
   "metadata": {},
   "source": [
    "***\n",
    "Os atributos que contém valores nulos terão suas colunas excluídas. Portanto não será feito nenhum tipo de tratamento nos mesmos"
   ]
  },
  {
   "cell_type": "markdown",
   "id": "8f52bab5-db90-40ab-a962-2761c6e28c19",
   "metadata": {},
   "source": [
    "## Tratando dataset."
   ]
  },
  {
   "cell_type": "code",
   "execution_count": 98,
   "id": "83d9c26d-d7a3-4c0a-81a1-df8b0d8fdc60",
   "metadata": {},
   "outputs": [],
   "source": [
    "# Colocando coluna ORDERDATE em formato de data\n",
    "df['ORDERDATE'] = pd.to_datetime(df['ORDERDATE'], format = '%m/%d/%Y %H:%M', errors = 'ignore')"
   ]
  },
  {
   "cell_type": "code",
   "execution_count": 99,
   "id": "eb54e0b7-045a-4be9-9c6a-39cddf2d1538",
   "metadata": {},
   "outputs": [
    {
     "data": {
      "text/plain": [
       "0"
      ]
     },
     "execution_count": 99,
     "metadata": {},
     "output_type": "execute_result"
    }
   ],
   "source": [
    "# Verificando se ficaram valores nulos no campo\n",
    "df['ORDERDATE'].isna().sum()"
   ]
  },
  {
   "cell_type": "code",
   "execution_count": 100,
   "id": "8092616f-b75c-45d5-9500-2d3f88d8dbfa",
   "metadata": {},
   "outputs": [],
   "source": [
    "# Exluido colunas que não serão usadas\n",
    "df.drop(columns = ['PHONE', 'ADDRESSLINE1', 'ADDRESSLINE2', 'STATE', 'POSTALCODE', 'TERRITORY', 'QTR_ID'], inplace = True)"
   ]
  },
  {
   "cell_type": "code",
   "execution_count": 101,
   "id": "c1c5bd59-e2a1-4659-ade4-1577c24675c7",
   "metadata": {},
   "outputs": [],
   "source": [
    "# Criando coluna que demonstra a diferença de valores entre o valor de venda (PRICEEACH) e o sugerido pelo fabricante (MSRP).\n",
    "df['PRICEDIFFERENCE'] = df['PRICEEACH'] - df['MSRP']"
   ]
  },
  {
   "cell_type": "code",
   "execution_count": 102,
   "id": "7f9acc81-321c-4d88-97f8-92dc88a4cc65",
   "metadata": {},
   "outputs": [],
   "source": [
    "# Criando coluna  categórica sobre a diferenca de preço\n",
    "df['CATPRICEDIFF'] = df['PRICEDIFFERENCE'].apply(lambda x : 'Positive' if x > 0 else ('Equal' if x == 0 else 'Negative'))"
   ]
  },
  {
   "cell_type": "code",
   "execution_count": 103,
   "id": "459e4b9a-2051-4114-b59c-05d8ec48b0cd",
   "metadata": {},
   "outputs": [
    {
     "data": {
      "text/plain": [
       "(2823, 20)"
      ]
     },
     "execution_count": 103,
     "metadata": {},
     "output_type": "execute_result"
    }
   ],
   "source": [
    "# Verificando se as colunas foram adicionadas\n",
    "df.shape"
   ]
  },
  {
   "cell_type": "code",
   "execution_count": 104,
   "id": "fbfb440a-44d7-45a2-acc9-19b13ee61883",
   "metadata": {},
   "outputs": [],
   "source": [
    "# Reordenando colunas\n",
    "df = df[['ORDERNUMBER', 'STATUS', 'ORDERLINENUMBER', 'ORDERDATE', \n",
    "    'YEAR_ID', 'MONTH_ID', 'CUSTOMERNAME', 'CONTACTFIRSTNAME', \n",
    "    'CONTACTLASTNAME', 'DEALSIZE', 'COUNTRY', 'CITY', \n",
    "    'PRODUCTCODE', 'QUANTITYORDERED', 'PRICEEACH', 'SALES', \n",
    "    'MSRP', 'PRICEDIFFERENCE', 'CATPRICEDIFF', 'PRODUCTLINE']]"
   ]
  },
  {
   "cell_type": "code",
   "execution_count": 105,
   "id": "97ffcd80-5527-4544-924c-4e3197e1fc32",
   "metadata": {},
   "outputs": [
    {
     "data": {
      "text/html": [
       "<div>\n",
       "<style scoped>\n",
       "    .dataframe tbody tr th:only-of-type {\n",
       "        vertical-align: middle;\n",
       "    }\n",
       "\n",
       "    .dataframe tbody tr th {\n",
       "        vertical-align: top;\n",
       "    }\n",
       "\n",
       "    .dataframe thead th {\n",
       "        text-align: right;\n",
       "    }\n",
       "</style>\n",
       "<table border=\"1\" class=\"dataframe\">\n",
       "  <thead>\n",
       "    <tr style=\"text-align: right;\">\n",
       "      <th></th>\n",
       "      <th>ORDERNUMBER</th>\n",
       "      <th>STATUS</th>\n",
       "      <th>ORDERLINENUMBER</th>\n",
       "      <th>ORDERDATE</th>\n",
       "      <th>YEAR_ID</th>\n",
       "      <th>MONTH_ID</th>\n",
       "      <th>CUSTOMERNAME</th>\n",
       "      <th>CONTACTFIRSTNAME</th>\n",
       "      <th>CONTACTLASTNAME</th>\n",
       "      <th>DEALSIZE</th>\n",
       "      <th>COUNTRY</th>\n",
       "      <th>CITY</th>\n",
       "      <th>PRODUCTCODE</th>\n",
       "      <th>QUANTITYORDERED</th>\n",
       "      <th>PRICEEACH</th>\n",
       "      <th>SALES</th>\n",
       "      <th>MSRP</th>\n",
       "      <th>PRICEDIFFERENCE</th>\n",
       "      <th>CATPRICEDIFF</th>\n",
       "      <th>PRODUCTLINE</th>\n",
       "    </tr>\n",
       "  </thead>\n",
       "  <tbody>\n",
       "    <tr>\n",
       "      <th>627</th>\n",
       "      <td>10122</td>\n",
       "      <td>Shipped</td>\n",
       "      <td>1</td>\n",
       "      <td>2003-05-08</td>\n",
       "      <td>2003</td>\n",
       "      <td>5</td>\n",
       "      <td>Marseille Mini Autos</td>\n",
       "      <td>Laurence</td>\n",
       "      <td>Lebihan</td>\n",
       "      <td>Medium</td>\n",
       "      <td>France</td>\n",
       "      <td>Marseille</td>\n",
       "      <td>S18_1984</td>\n",
       "      <td>31</td>\n",
       "      <td>100.00</td>\n",
       "      <td>4100.99</td>\n",
       "      <td>142</td>\n",
       "      <td>-42.00</td>\n",
       "      <td>Negative</td>\n",
       "      <td>Classic Cars</td>\n",
       "    </tr>\n",
       "    <tr>\n",
       "      <th>1717</th>\n",
       "      <td>10114</td>\n",
       "      <td>Shipped</td>\n",
       "      <td>1</td>\n",
       "      <td>2003-04-01</td>\n",
       "      <td>2003</td>\n",
       "      <td>4</td>\n",
       "      <td>La Corne D'abondance, Co.</td>\n",
       "      <td>Marie</td>\n",
       "      <td>Bertrand</td>\n",
       "      <td>Small</td>\n",
       "      <td>France</td>\n",
       "      <td>Paris</td>\n",
       "      <td>S24_2840</td>\n",
       "      <td>24</td>\n",
       "      <td>30.06</td>\n",
       "      <td>721.44</td>\n",
       "      <td>35</td>\n",
       "      <td>-4.94</td>\n",
       "      <td>Negative</td>\n",
       "      <td>Classic Cars</td>\n",
       "    </tr>\n",
       "    <tr>\n",
       "      <th>1242</th>\n",
       "      <td>10117</td>\n",
       "      <td>Shipped</td>\n",
       "      <td>12</td>\n",
       "      <td>2003-04-16</td>\n",
       "      <td>2003</td>\n",
       "      <td>4</td>\n",
       "      <td>Dragon Souveniers, Ltd.</td>\n",
       "      <td>Eric</td>\n",
       "      <td>Natividad</td>\n",
       "      <td>Small</td>\n",
       "      <td>Singapore</td>\n",
       "      <td>Singapore</td>\n",
       "      <td>S18_4027</td>\n",
       "      <td>22</td>\n",
       "      <td>100.00</td>\n",
       "      <td>2780.58</td>\n",
       "      <td>143</td>\n",
       "      <td>-43.00</td>\n",
       "      <td>Negative</td>\n",
       "      <td>Classic Cars</td>\n",
       "    </tr>\n",
       "    <tr>\n",
       "      <th>1684</th>\n",
       "      <td>10309</td>\n",
       "      <td>Shipped</td>\n",
       "      <td>2</td>\n",
       "      <td>2004-10-15</td>\n",
       "      <td>2004</td>\n",
       "      <td>10</td>\n",
       "      <td>Baane Mini Imports</td>\n",
       "      <td>Jonas</td>\n",
       "      <td>Bergulfsen</td>\n",
       "      <td>Small</td>\n",
       "      <td>Norway</td>\n",
       "      <td>Stavern</td>\n",
       "      <td>S24_2360</td>\n",
       "      <td>24</td>\n",
       "      <td>56.10</td>\n",
       "      <td>1346.40</td>\n",
       "      <td>69</td>\n",
       "      <td>-12.90</td>\n",
       "      <td>Negative</td>\n",
       "      <td>Motorcycles</td>\n",
       "    </tr>\n",
       "    <tr>\n",
       "      <th>1679</th>\n",
       "      <td>10252</td>\n",
       "      <td>Shipped</td>\n",
       "      <td>8</td>\n",
       "      <td>2004-05-26</td>\n",
       "      <td>2004</td>\n",
       "      <td>5</td>\n",
       "      <td>Auto Canal Petit</td>\n",
       "      <td>Dominique</td>\n",
       "      <td>Perrier</td>\n",
       "      <td>Medium</td>\n",
       "      <td>France</td>\n",
       "      <td>Paris</td>\n",
       "      <td>S24_2360</td>\n",
       "      <td>47</td>\n",
       "      <td>65.80</td>\n",
       "      <td>3092.60</td>\n",
       "      <td>69</td>\n",
       "      <td>-3.20</td>\n",
       "      <td>Negative</td>\n",
       "      <td>Motorcycles</td>\n",
       "    </tr>\n",
       "    <tr>\n",
       "      <th>2670</th>\n",
       "      <td>10168</td>\n",
       "      <td>Shipped</td>\n",
       "      <td>15</td>\n",
       "      <td>2003-10-28</td>\n",
       "      <td>2003</td>\n",
       "      <td>10</td>\n",
       "      <td>Technics Stores Inc.</td>\n",
       "      <td>Juri</td>\n",
       "      <td>Hirano</td>\n",
       "      <td>Medium</td>\n",
       "      <td>USA</td>\n",
       "      <td>Burlingame</td>\n",
       "      <td>S700_3167</td>\n",
       "      <td>48</td>\n",
       "      <td>96.00</td>\n",
       "      <td>4608.00</td>\n",
       "      <td>80</td>\n",
       "      <td>16.00</td>\n",
       "      <td>Positive</td>\n",
       "      <td>Planes</td>\n",
       "    </tr>\n",
       "  </tbody>\n",
       "</table>\n",
       "</div>"
      ],
      "text/plain": [
       "      ORDERNUMBER   STATUS  ORDERLINENUMBER  ORDERDATE  YEAR_ID  MONTH_ID  \\\n",
       "627         10122  Shipped                1 2003-05-08     2003         5   \n",
       "1717        10114  Shipped                1 2003-04-01     2003         4   \n",
       "1242        10117  Shipped               12 2003-04-16     2003         4   \n",
       "1684        10309  Shipped                2 2004-10-15     2004        10   \n",
       "1679        10252  Shipped                8 2004-05-26     2004         5   \n",
       "2670        10168  Shipped               15 2003-10-28     2003        10   \n",
       "\n",
       "                   CUSTOMERNAME CONTACTFIRSTNAME CONTACTLASTNAME DEALSIZE  \\\n",
       "627        Marseille Mini Autos         Laurence         Lebihan   Medium   \n",
       "1717  La Corne D'abondance, Co.            Marie        Bertrand    Small   \n",
       "1242    Dragon Souveniers, Ltd.             Eric       Natividad    Small   \n",
       "1684         Baane Mini Imports            Jonas      Bergulfsen    Small   \n",
       "1679           Auto Canal Petit        Dominique         Perrier   Medium   \n",
       "2670       Technics Stores Inc.             Juri          Hirano   Medium   \n",
       "\n",
       "        COUNTRY        CITY PRODUCTCODE  QUANTITYORDERED  PRICEEACH    SALES  \\\n",
       "627      France   Marseille    S18_1984               31     100.00  4100.99   \n",
       "1717     France       Paris    S24_2840               24      30.06   721.44   \n",
       "1242  Singapore   Singapore    S18_4027               22     100.00  2780.58   \n",
       "1684     Norway     Stavern    S24_2360               24      56.10  1346.40   \n",
       "1679     France       Paris    S24_2360               47      65.80  3092.60   \n",
       "2670        USA  Burlingame   S700_3167               48      96.00  4608.00   \n",
       "\n",
       "      MSRP  PRICEDIFFERENCE CATPRICEDIFF   PRODUCTLINE  \n",
       "627    142           -42.00     Negative  Classic Cars  \n",
       "1717    35            -4.94     Negative  Classic Cars  \n",
       "1242   143           -43.00     Negative  Classic Cars  \n",
       "1684    69           -12.90     Negative   Motorcycles  \n",
       "1679    69            -3.20     Negative   Motorcycles  \n",
       "2670    80            16.00     Positive        Planes  "
      ]
     },
     "execution_count": 105,
     "metadata": {},
     "output_type": "execute_result"
    }
   ],
   "source": [
    "# Exibindo amostra do dataset tratado\n",
    "df.sample(6)"
   ]
  },
  {
   "cell_type": "markdown",
   "id": "a6b9d8cf-67fb-4f1f-8eb2-597d2eaaa290",
   "metadata": {},
   "source": [
    "## Análise exploratória"
   ]
  },
  {
   "cell_type": "markdown",
   "id": "dbf9b952-d64a-4b51-b1c4-67e6d52aadf7",
   "metadata": {},
   "source": [
    "### 1 - Faturamento por ano"
   ]
  },
  {
   "cell_type": "code",
   "execution_count": 108,
   "id": "06bdc5d8-c1b0-498d-91e9-55e0405f7bb7",
   "metadata": {},
   "outputs": [],
   "source": [
    "# Verificando qual valor de vendas por ano ao longo dos meses\n",
    "vendaAnoMes = df.pivot_table(\n",
    "    index = 'YEAR_ID',\n",
    "    columns = 'MONTH_ID',\n",
    "    values = 'SALES',\n",
    "    aggfunc = 'sum',\n",
    ")"
   ]
  },
  {
   "cell_type": "code",
   "execution_count": 109,
   "id": "67a9fa3e-19cf-43ac-9151-3f291011892f",
   "metadata": {},
   "outputs": [
    {
     "data": {
      "text/html": [
       "<div>\n",
       "<style scoped>\n",
       "    .dataframe tbody tr th:only-of-type {\n",
       "        vertical-align: middle;\n",
       "    }\n",
       "\n",
       "    .dataframe tbody tr th {\n",
       "        vertical-align: top;\n",
       "    }\n",
       "\n",
       "    .dataframe thead th {\n",
       "        text-align: right;\n",
       "    }\n",
       "</style>\n",
       "<table border=\"1\" class=\"dataframe\">\n",
       "  <thead>\n",
       "    <tr style=\"text-align: right;\">\n",
       "      <th>MONTH_ID</th>\n",
       "      <th>1</th>\n",
       "      <th>2</th>\n",
       "      <th>3</th>\n",
       "      <th>4</th>\n",
       "      <th>5</th>\n",
       "      <th>6</th>\n",
       "      <th>7</th>\n",
       "      <th>8</th>\n",
       "      <th>9</th>\n",
       "      <th>10</th>\n",
       "      <th>11</th>\n",
       "      <th>12</th>\n",
       "    </tr>\n",
       "    <tr>\n",
       "      <th>YEAR_ID</th>\n",
       "      <th></th>\n",
       "      <th></th>\n",
       "      <th></th>\n",
       "      <th></th>\n",
       "      <th></th>\n",
       "      <th></th>\n",
       "      <th></th>\n",
       "      <th></th>\n",
       "      <th></th>\n",
       "      <th></th>\n",
       "      <th></th>\n",
       "      <th></th>\n",
       "    </tr>\n",
       "  </thead>\n",
       "  <tbody>\n",
       "    <tr>\n",
       "      <th>2003</th>\n",
       "      <td>129753.60</td>\n",
       "      <td>140836.19</td>\n",
       "      <td>174504.90</td>\n",
       "      <td>201609.55</td>\n",
       "      <td>192673.11</td>\n",
       "      <td>168082.56</td>\n",
       "      <td>187731.88</td>\n",
       "      <td>197809.30</td>\n",
       "      <td>263973.36</td>\n",
       "      <td>568290.97</td>\n",
       "      <td>1.030e+06</td>\n",
       "      <td>261876.46</td>\n",
       "    </tr>\n",
       "    <tr>\n",
       "      <th>2004</th>\n",
       "      <td>316577.42</td>\n",
       "      <td>311419.53</td>\n",
       "      <td>205733.73</td>\n",
       "      <td>206148.12</td>\n",
       "      <td>273438.39</td>\n",
       "      <td>286674.22</td>\n",
       "      <td>327144.09</td>\n",
       "      <td>461501.27</td>\n",
       "      <td>320750.91</td>\n",
       "      <td>552924.25</td>\n",
       "      <td>1.089e+06</td>\n",
       "      <td>372802.66</td>\n",
       "    </tr>\n",
       "    <tr>\n",
       "      <th>2005</th>\n",
       "      <td>339543.42</td>\n",
       "      <td>358186.18</td>\n",
       "      <td>374262.76</td>\n",
       "      <td>261633.29</td>\n",
       "      <td>457861.06</td>\n",
       "      <td>NaN</td>\n",
       "      <td>NaN</td>\n",
       "      <td>NaN</td>\n",
       "      <td>NaN</td>\n",
       "      <td>NaN</td>\n",
       "      <td>NaN</td>\n",
       "      <td>NaN</td>\n",
       "    </tr>\n",
       "  </tbody>\n",
       "</table>\n",
       "</div>"
      ],
      "text/plain": [
       "MONTH_ID         1          2          3          4          5          6   \\\n",
       "YEAR_ID                                                                      \n",
       "2003      129753.60  140836.19  174504.90  201609.55  192673.11  168082.56   \n",
       "2004      316577.42  311419.53  205733.73  206148.12  273438.39  286674.22   \n",
       "2005      339543.42  358186.18  374262.76  261633.29  457861.06        NaN   \n",
       "\n",
       "MONTH_ID         7          8          9          10         11         12  \n",
       "YEAR_ID                                                                     \n",
       "2003      187731.88  197809.30  263973.36  568290.97  1.030e+06  261876.46  \n",
       "2004      327144.09  461501.27  320750.91  552924.25  1.089e+06  372802.66  \n",
       "2005            NaN        NaN        NaN        NaN        NaN        NaN  "
      ]
     },
     "execution_count": 109,
     "metadata": {},
     "output_type": "execute_result"
    }
   ],
   "source": [
    "# Exibindo dataset\n",
    "vendaAnoMes"
   ]
  },
  {
   "cell_type": "markdown",
   "id": "e2c79d1e-83c6-4ea2-8cda-bd5a4b141d85",
   "metadata": {},
   "source": [
    "Nota-se que **não há** registros de vendas a partir do mês 6 de 2005."
   ]
  },
  {
   "cell_type": "code",
   "execution_count": 111,
   "id": "3a35c5a6-5948-43d8-8bd7-7ef5fd8a2d3f",
   "metadata": {},
   "outputs": [
    {
     "data": {
      "image/png": "[encoded data removed]",
      "text/plain": [
       "<Figure size 1000x300 with 1 Axes>"
      ]
     },
     "metadata": {},
     "output_type": "display_data"
    }
   ],
   "source": [
    "# Plotando gráfico mostrando vendas durante os meses\n",
    "vendaAnoMes.T.plot(\n",
    "    figsize = (10, 3),\n",
    "    title = 'Venda ao longo dos meses',\n",
    "    marker = 'o',\n",
    "    xticks = np.arange(1, 13),\n",
    "    xlabel = 'Mês',\n",
    "    ylabel = 'Valor vendido (Milhões)',\n",
    "    grid = True,\n",
    "\n",
    ");"
   ]
  },
  {
   "cell_type": "markdown",
   "id": "67e45b76-48ba-4677-af28-540e958e8574",
   "metadata": {},
   "source": [
    "Praticamente em todos os meses o valor de venda foi superior quando relacionado com o do ano anterior, exeto no mês dez, onde o ano de 2003 vendeu mais que o de 2004. Mesmo com registros somente até o mês cinco o ano de 2005 se mostra superando os valores para o mesmo período dos anos anteriores."
   ]
  },
  {
   "cell_type": "markdown",
   "id": "8343408f-1e7b-41d8-9968-8ec024433636",
   "metadata": {},
   "source": [
    "### 2 - Status do pedido por ano "
   ]
  },
  {
   "cell_type": "code",
   "execution_count": 114,
   "id": "bbaf1243-f4c5-4f6a-8e0c-f3f702b3ed1c",
   "metadata": {},
   "outputs": [
    {
     "data": {
      "text/html": [
       "<style type=\"text/css\">\n",
       "#T_41385_row0_col0 {\n",
       "  background-color: #fbfefc;\n",
       "  color: #000000;\n",
       "}\n",
       "#T_41385_row0_col1 {\n",
       "  background-color: #f2fbf6;\n",
       "  color: #000000;\n",
       "}\n",
       "#T_41385_row0_col2, #T_41385_row1_col0, #T_41385_row1_col1, #T_41385_row2_col0, #T_41385_row2_col1, #T_41385_row3_col0, #T_41385_row5_col0, #T_41385_row5_col1, #T_41385_row5_col2 {\n",
       "  background-color: #000000;\n",
       "  color: #f1f1f1;\n",
       "}\n",
       "#T_41385_row1_col2, #T_41385_row3_col1, #T_41385_row4_col0, #T_41385_row4_col1 {\n",
       "  background-color: #ffffff;\n",
       "  color: #000000;\n",
       "}\n",
       "#T_41385_row2_col2 {\n",
       "  background-color: #dbf3ef;\n",
       "  color: #000000;\n",
       "}\n",
       "#T_41385_row3_col2 {\n",
       "  background-color: #def4ef;\n",
       "  color: #000000;\n",
       "}\n",
       "#T_41385_row4_col2 {\n",
       "  background-color: #e9f8f2;\n",
       "  color: #000000;\n",
       "}\n",
       "</style>\n",
       "<table id=\"T_41385\">\n",
       "  <thead>\n",
       "    <tr>\n",
       "      <th class=\"index_name level0\" >YEAR_ID</th>\n",
       "      <th id=\"T_41385_level0_col0\" class=\"col_heading level0 col0\" >2003</th>\n",
       "      <th id=\"T_41385_level0_col1\" class=\"col_heading level0 col1\" >2004</th>\n",
       "      <th id=\"T_41385_level0_col2\" class=\"col_heading level0 col2\" >2005</th>\n",
       "    </tr>\n",
       "    <tr>\n",
       "      <th class=\"index_name level0\" >STATUS</th>\n",
       "      <th class=\"blank col0\" >&nbsp;</th>\n",
       "      <th class=\"blank col1\" >&nbsp;</th>\n",
       "      <th class=\"blank col2\" >&nbsp;</th>\n",
       "    </tr>\n",
       "  </thead>\n",
       "  <tbody>\n",
       "    <tr>\n",
       "      <th id=\"T_41385_level0_row0\" class=\"row_heading level0 row0\" >Cancelled</th>\n",
       "      <td id=\"T_41385_row0_col0\" class=\"data row0 col0\" >16.000000</td>\n",
       "      <td id=\"T_41385_row0_col1\" class=\"data row0 col1\" >44.000000</td>\n",
       "      <td id=\"T_41385_row0_col2\" class=\"data row0 col2\" >nan</td>\n",
       "    </tr>\n",
       "    <tr>\n",
       "      <th id=\"T_41385_level0_row1\" class=\"row_heading level0 row1\" >Disputed</th>\n",
       "      <td id=\"T_41385_row1_col0\" class=\"data row1 col0\" >nan</td>\n",
       "      <td id=\"T_41385_row1_col1\" class=\"data row1 col1\" >nan</td>\n",
       "      <td id=\"T_41385_row1_col2\" class=\"data row1 col2\" >14.000000</td>\n",
       "    </tr>\n",
       "    <tr>\n",
       "      <th id=\"T_41385_level0_row2\" class=\"row_heading level0 row2\" >In Process</th>\n",
       "      <td id=\"T_41385_row2_col0\" class=\"data row2 col0\" >nan</td>\n",
       "      <td id=\"T_41385_row2_col1\" class=\"data row2 col1\" >nan</td>\n",
       "      <td id=\"T_41385_row2_col2\" class=\"data row2 col2\" >41.000000</td>\n",
       "    </tr>\n",
       "    <tr>\n",
       "      <th id=\"T_41385_level0_row3\" class=\"row_heading level0 row3\" >On Hold</th>\n",
       "      <td id=\"T_41385_row3_col0\" class=\"data row3 col0\" >nan</td>\n",
       "      <td id=\"T_41385_row3_col1\" class=\"data row3 col1\" >6.000000</td>\n",
       "      <td id=\"T_41385_row3_col2\" class=\"data row3 col2\" >38.000000</td>\n",
       "    </tr>\n",
       "    <tr>\n",
       "      <th id=\"T_41385_level0_row4\" class=\"row_heading level0 row4\" >Resolved</th>\n",
       "      <td id=\"T_41385_row4_col0\" class=\"data row4 col0\" >8.000000</td>\n",
       "      <td id=\"T_41385_row4_col1\" class=\"data row4 col1\" >8.000000</td>\n",
       "      <td id=\"T_41385_row4_col2\" class=\"data row4 col2\" >31.000000</td>\n",
       "    </tr>\n",
       "    <tr>\n",
       "      <th id=\"T_41385_level0_row5\" class=\"row_heading level0 row5\" >Shipped</th>\n",
       "      <td id=\"T_41385_row5_col0\" class=\"data row5 col0\" >976.000000</td>\n",
       "      <td id=\"T_41385_row5_col1\" class=\"data row5 col1\" >1287.000000</td>\n",
       "      <td id=\"T_41385_row5_col2\" class=\"data row5 col2\" >354.000000</td>\n",
       "    </tr>\n",
       "  </tbody>\n",
       "</table>\n"
      ],
      "text/plain": [
       "<pandas.io.formats.style.Styler at 0x2106ba0f740>"
      ]
     },
     "execution_count": 114,
     "metadata": {},
     "output_type": "execute_result"
    }
   ],
   "source": [
    "# Status dos pedidos por ano\n",
    "statusAno = df.pivot_table(\n",
    "    index = 'STATUS',\n",
    "    columns = 'YEAR_ID',\n",
    "    values = 'ORDERNUMBER',\n",
    "    aggfunc = 'count'\n",
    ")\n",
    "# Exibnindo dataframe\n",
    "statusAno.style.background_gradient(cmap = 'cubehelix_r')"
   ]
  },
  {
   "cell_type": "code",
   "execution_count": 175,
   "id": "e2564eb3-984f-4ee2-931a-ef507df93d5c",
   "metadata": {},
   "outputs": [
    {
     "data": {
      "image/png": "[encoded data removed]",
      "text/plain": [
       "<Figure size 1600x300 with 3 Axes>"
      ]
     },
     "metadata": {},
     "output_type": "display_data"
    }
   ],
   "source": [
    "# Plotando gráfico de status para cada ano\n",
    "statusAno.plot(kind = 'bar',\n",
    "              figsize = (16, 3),\n",
    "              layout = (1, 3),\n",
    "              title = ['', '', ''], \n",
    "              subplots = True,\n",
    "              sharey = False, \n",
    "              fontsize = 10, \n",
    "              ylabel = 'Qtd. Pedidos',\n",
    "              rot = 45\n",
    "              );"
   ]
  },
  {
   "cell_type": "markdown",
   "id": "74050b9a-812c-41f3-b08e-36d006b85389",
   "metadata": {},
   "source": [
    "De modo geral a maior parte dos pedidos está com o status \"Shipped\" e o ano de 2005 não registra nenhum pedido cancelado. \\\n",
    "(Lembrando que para o ano de 2005 só há registros dos cinco primeiros meses)"
   ]
  },
  {
   "cell_type": "markdown",
   "id": "b7d57f70-a1b9-4e99-9213-0284c3e2d5fa",
   "metadata": {},
   "source": [
    "### 3 - Quais categorias com mais pedidos cancelados?"
   ]
  },
  {
   "cell_type": "code",
   "execution_count": 118,
   "id": "11b4ad4a-ec1a-498a-b3c2-b85c6ec1bdcc",
   "metadata": {},
   "outputs": [
    {
     "data": {
      "text/plain": [
       "PRODUCTLINE\n",
       "Ships           18\n",
       "Classic Cars    16\n",
       "Vintage Cars    13\n",
       "Planes          12\n",
       "Trains           1\n",
       "Name: PRODUCTLINE, dtype: int64"
      ]
     },
     "execution_count": 118,
     "metadata": {},
     "output_type": "execute_result"
    }
   ],
   "source": [
    "# Verificando categorias que mais tiveram pedido cancelado\n",
    "cancelados = df.query('`STATUS` == \"Cancelled\"').groupby('PRODUCTLINE')['PRODUCTLINE'].count().sort_values(ascending = False)\n",
    "# Exibindo Series\n",
    "cancelados"
   ]
  },
  {
   "cell_type": "code",
   "execution_count": 119,
   "id": "25fe884f-4f07-4020-9161-c3dbc3f2bbc7",
   "metadata": {},
   "outputs": [
    {
     "data": {
      "image/png": "[encoded data removed]",
      "text/plain": [
       "<Figure size 640x480 with 1 Axes>"
      ]
     },
     "metadata": {},
     "output_type": "display_data"
    }
   ],
   "source": [
    "# Plotando gráfico\n",
    "cancelados.plot(kind = 'barh',\n",
    "                title = 'Pedidos cancelados por categoria',\n",
    "                ylabel = '',\n",
    "               xticks = (np.arange(0, cancelados.max()+1, 2)),\n",
    "               color = 'red');"
   ]
  },
  {
   "cell_type": "markdown",
   "id": "fef0c1a4-8f61-49ba-929b-7565f755984a",
   "metadata": {},
   "source": [
    "### 4 - Qual o porte empresarial dos clientes?"
   ]
  },
  {
   "cell_type": "code",
   "execution_count": 121,
   "id": "5cc00d9a-7d88-4be9-b6b5-15c84a3eb59a",
   "metadata": {},
   "outputs": [
    {
     "data": {
      "text/plain": [
       "DEALSIZE\n",
       "Large      157\n",
       "Medium    1384\n",
       "Small     1282\n",
       "Name: ORDERNUMBER, dtype: int64"
      ]
     },
     "execution_count": 121,
     "metadata": {},
     "output_type": "execute_result"
    }
   ],
   "source": [
    "# Verificando porte da empresa dos clientes\n",
    "porteClientes = df.groupby('DEALSIZE')['ORDERNUMBER'].count()\n",
    "# Exibindo dataframe\n",
    "porteClientes"
   ]
  },
  {
   "cell_type": "code",
   "execution_count": 122,
   "id": "ef8ef231-a0e4-411b-9490-b09a966c475d",
   "metadata": {},
   "outputs": [
    {
     "data": {
      "image/png": "[encoded data removed]",
      "text/plain": [
       "<Figure size 640x480 with 1 Axes>"
      ]
     },
     "metadata": {},
     "output_type": "display_data"
    }
   ],
   "source": [
    "# Plotando gráfico de pizza\n",
    "porteClientes.plot(kind = 'pie',\n",
    "                  x = 'DEALSIZE',\n",
    "                  y = 'CUSTOMERS',\n",
    "                  title = 'Porte cliente', \n",
    "                  autopct = '%1.2f%%',\n",
    "                  ylabel = ''\n",
    "                  );"
   ]
  },
  {
   "cell_type": "markdown",
   "id": "02b916c0-e937-4aa5-b575-bbac92d3a38e",
   "metadata": {},
   "source": [
    "O porte dos clientes são quase igualitariamente de portes Medium e Small sendo o porte predominante **Medium**, ficando apenas uma fração de porte large."
   ]
  },
  {
   "cell_type": "markdown",
   "id": "4d2325f1-9466-4080-b4e6-b2fe80913aec",
   "metadata": {},
   "source": [
    "### 5 - Quais as categorias com mais vendas em ordem de quantidade?"
   ]
  },
  {
   "cell_type": "code",
   "execution_count": 125,
   "id": "eefc45c5-03cd-4d43-ace5-67ef04255ead",
   "metadata": {},
   "outputs": [
    {
     "data": {
      "text/plain": [
       "PRODUCTLINE\n",
       "Classic Cars        33992\n",
       "Vintage Cars        21069\n",
       "Motorcycles         11663\n",
       "Trucks and Buses    10777\n",
       "Planes              10727\n",
       "Ships                8127\n",
       "Trains               2712\n",
       "Name: QUANTITYORDERED, dtype: int64"
      ]
     },
     "execution_count": 125,
     "metadata": {},
     "output_type": "execute_result"
    }
   ],
   "source": [
    "# Categoria que mais vende em ordem de quantidade\n",
    "catQuantidade = df.groupby('PRODUCTLINE')['QUANTITYORDERED'].sum().sort_values(ascending = False)\n",
    "# Exibindo Series\n",
    "catQuantidade"
   ]
  },
  {
   "cell_type": "code",
   "execution_count": 126,
   "id": "e9ac0cca-326e-4ad6-a216-46001cd46e62",
   "metadata": {},
   "outputs": [
    {
     "data": {
      "image/png": "[encoded data removed]",
      "text/plain": [
       "<Figure size 640x480 with 1 Axes>"
      ]
     },
     "metadata": {},
     "output_type": "display_data"
    }
   ],
   "source": [
    "# Plotando gráfico\n",
    "catQuantidade.plot(\n",
    "    kind = 'bar',\n",
    "    title = 'Qtde vendida por categoria',\n",
    "    rot = 45,\n",
    "    ylabel = '',\n",
    "    xlabel = ''\n",
    ");"
   ]
  },
  {
   "cell_type": "markdown",
   "id": "4746cd2c-e314-4a28-8c56-050ddf5684e9",
   "metadata": {},
   "source": [
    "### 6 - Qual a distribuição da categoria de valor praticado em relação ao sugerido?"
   ]
  },
  {
   "cell_type": "code",
   "execution_count": 128,
   "id": "11ef9be2-cbb4-4fe3-8a01-661cea6f3bca",
   "metadata": {},
   "outputs": [
    {
     "data": {
      "text/plain": [
       "CATPRICEDIFF\n",
       "Equal         27\n",
       "Negative    1953\n",
       "Positive     843\n",
       "Name: ORDERNUMBER, dtype: int64"
      ]
     },
     "execution_count": 128,
     "metadata": {},
     "output_type": "execute_result"
    }
   ],
   "source": [
    "# Contando pedidos de acordo com a categoria\n",
    "catPreco = df.groupby('CATPRICEDIFF')['ORDERNUMBER'].count()\n",
    "# Exibindo Series\n",
    "catPreco"
   ]
  },
  {
   "cell_type": "code",
   "execution_count": 129,
   "id": "379fbaa3-93b7-4b0c-a0c1-a2f8fa0ab25a",
   "metadata": {},
   "outputs": [
    {
     "data": {
      "image/png": "[encoded data removed]",
      "text/plain": [
       "<Figure size 640x480 with 1 Axes>"
      ]
     },
     "metadata": {},
     "output_type": "display_data"
    }
   ],
   "source": [
    "# Plotando gráfico\n",
    "catPreco.plot(\n",
    "    kind = 'pie',\n",
    "    title = 'Margem em relação ao preço sugerido',\n",
    "    autopct = '%1.2f%%',\n",
    "    ylabel = ''\n",
    ");"
   ]
  },
  {
   "cell_type": "markdown",
   "id": "e00b3d33-9ce6-48c0-8c56-194b9961063d",
   "metadata": {},
   "source": [
    "### 7 - Qual a diferença média positiva entre o valor sugerido e praticado por cada país?"
   ]
  },
  {
   "cell_type": "code",
   "execution_count": 131,
   "id": "435f7fa5-ad4b-4099-b80f-72fdd163f8ed",
   "metadata": {},
   "outputs": [
    {
     "data": {
      "text/plain": [
       "COUNTRY\n",
       "Philippines     5.638\n",
       "Ireland         5.948\n",
       "Singapore       5.969\n",
       "Italy           6.031\n",
       "Canada          6.853\n",
       "Sweden          7.010\n",
       "Belgium         7.539\n",
       "Germany         7.722\n",
       "Switzerland     7.764\n",
       "Austria         8.407\n",
       "Denmark         9.581\n",
       "Norway          9.944\n",
       "USA            10.378\n",
       "UK             10.505\n",
       "Finland        10.662\n",
       "France         11.036\n",
       "Spain          13.031\n",
       "Australia      13.190\n",
       "Japan          14.840\n",
       "Name: PRICEDIFFERENCE, dtype: float64"
      ]
     },
     "execution_count": 131,
     "metadata": {},
     "output_type": "execute_result"
    }
   ],
   "source": [
    "# Diferença média de preço praticado por pais\n",
    "medPositiva = df.query(\"`PRICEDIFFERENCE` > 0\").groupby('COUNTRY')['PRICEDIFFERENCE'].mean().sort_values()\n",
    "# Exibindo Series\n",
    "medPositiva"
   ]
  },
  {
   "cell_type": "code",
   "execution_count": 132,
   "id": "d07cab2b-f40e-488e-b2a5-caab35e5ef2f",
   "metadata": {},
   "outputs": [
    {
     "data": {
      "image/png": "[encoded data removed]",
      "text/plain": [
       "<Figure size 640x480 with 1 Axes>"
      ]
     },
     "metadata": {},
     "output_type": "display_data"
    }
   ],
   "source": [
    "# Plotando gráfico\n",
    "medPositiva.plot(\n",
    "    kind = 'bar',\n",
    "    title = 'Média positiva por pais',\n",
    "    xlabel = 'País'\n",
    ");"
   ]
  },
  {
   "cell_type": "markdown",
   "id": "319f2915-356d-4c8a-8f83-1b24b306e32e",
   "metadata": {},
   "source": [
    "### 8 - Quais os 5 Produtos com maior diferença negativa entre o preço sugerido?"
   ]
  },
  {
   "cell_type": "code",
   "execution_count": 134,
   "id": "5e3d162a-0a2f-4a0e-80f6-9456354ce727",
   "metadata": {},
   "outputs": [
    {
     "data": {
      "text/plain": [
       "PRODUCTCODE\n",
       "S18_3232   -3637.66\n",
       "S10_1949   -3192.00\n",
       "S12_1108   -2939.30\n",
       "S10_4698   -2454.56\n",
       "S12_1099   -2438.45\n",
       "Name: PRICEDIFFERENCE, dtype: float64"
      ]
     },
     "execution_count": 134,
     "metadata": {},
     "output_type": "execute_result"
    }
   ],
   "source": [
    "# Trazendo produtos\n",
    "prodNegativos = df.groupby('PRODUCTCODE')['PRICEDIFFERENCE'].sum().nsmallest(5)\n",
    "# Exibindo Series\n",
    "prodNegativos"
   ]
  },
  {
   "cell_type": "code",
   "execution_count": 135,
   "id": "0d4feb5a-6392-444c-811b-7051f5901b3b",
   "metadata": {},
   "outputs": [
    {
     "data": {
      "image/png": "[encoded data removed]",
      "text/plain": [
       "<Figure size 640x480 with 1 Axes>"
      ]
     },
     "metadata": {},
     "output_type": "display_data"
    }
   ],
   "source": [
    "# Plotando gráfico\n",
    "prodNegativos.plot(\n",
    "    kind = 'barh',\n",
    "    title = 'Produtos com maior diferença negativa',\n",
    "    ylabel = 'Cód. Produto'\n",
    ");"
   ]
  },
  {
   "cell_type": "markdown",
   "id": "7f6f7736-9506-4b89-a140-91549ea3d844",
   "metadata": {},
   "source": [
    "### 9 - Quais os 3 Países com mais pedidos?"
   ]
  },
  {
   "cell_type": "code",
   "execution_count": 259,
   "id": "6a7fd721-56ae-42eb-8fec-5f22df0d8814",
   "metadata": {},
   "outputs": [
    {
     "data": {
      "text/html": [
       "<div>\n",
       "<style scoped>\n",
       "    .dataframe tbody tr th:only-of-type {\n",
       "        vertical-align: middle;\n",
       "    }\n",
       "\n",
       "    .dataframe tbody tr th {\n",
       "        vertical-align: top;\n",
       "    }\n",
       "\n",
       "    .dataframe thead th {\n",
       "        text-align: right;\n",
       "    }\n",
       "</style>\n",
       "<table border=\"1\" class=\"dataframe\">\n",
       "  <thead>\n",
       "    <tr style=\"text-align: right;\">\n",
       "      <th></th>\n",
       "      <th>ORDERNUMBER</th>\n",
       "    </tr>\n",
       "    <tr>\n",
       "      <th>COUNTRY</th>\n",
       "      <th></th>\n",
       "    </tr>\n",
       "  </thead>\n",
       "  <tbody>\n",
       "    <tr>\n",
       "      <th>USA</th>\n",
       "      <td>1004</td>\n",
       "    </tr>\n",
       "    <tr>\n",
       "      <th>Spain</th>\n",
       "      <td>342</td>\n",
       "    </tr>\n",
       "    <tr>\n",
       "      <th>France</th>\n",
       "      <td>314</td>\n",
       "    </tr>\n",
       "  </tbody>\n",
       "</table>\n",
       "</div>"
      ],
      "text/plain": [
       "         ORDERNUMBER\n",
       "COUNTRY             \n",
       "USA             1004\n",
       "Spain            342\n",
       "France           314"
      ]
     },
     "execution_count": 259,
     "metadata": {},
     "output_type": "execute_result"
    }
   ],
   "source": [
    "# Filtrando paises\n",
    "top3PaisesPedidos = df.groupby('COUNTRY')['ORDERNUMBER'].count().sort_values(ascending = False).to_frame()[0:3]\n",
    "# Exibindo resultado\n",
    "top3PaisesPedidos"
   ]
  },
  {
   "cell_type": "markdown",
   "id": "7a229790-a351-4136-a665-ca664d3d7a2d",
   "metadata": {},
   "source": [
    "### 10 - Qual o ticket médio por ano"
   ]
  },
  {
   "cell_type": "code",
   "execution_count": 267,
   "id": "5ebd251c-7707-437a-83c6-ec7976681afe",
   "metadata": {},
   "outputs": [
    {
     "data": {
      "text/plain": [
       "YEAR_ID\n",
       "2003    3516.980\n",
       "2004    3512.389\n",
       "2005    3747.880\n",
       "Name: SALES, dtype: float64"
      ]
     },
     "execution_count": 267,
     "metadata": {},
     "output_type": "execute_result"
    }
   ],
   "source": [
    "df.groupby('YEAR_ID')['SALES'].mean()"
   ]
  },
  {
   "cell_type": "markdown",
   "id": "4e8d2b62-75e7-4dd2-9863-eee70ebaf575",
   "metadata": {},
   "source": [
    "## Conclusões\n",
    "<ol>\n",
    "    <li>O valor vendido se supera a cada ano exceto no mês 10 de 2003 que superou as vendas do ano seguinte. O ano de 2005 que só contém registros até o quinto mês se mostrou com a mesma tendência de superar os anos anteriores em todos os meses registrados. </li>\n",
    "    <li>A maior parte dos pedidos tem o STATUS como shipped. Os pedidos com status cancelado são ínfimos, por isso seus registros foram considerados. O ano de 2005 não registrou nenhum pedido cancelado no período em que tem registro.</li>\n",
    "    <li>Dos pedidos cancelados as três categorias mais canceladas são: Ships (18 pedidos), Classic Cars (16 pedidos) e Vintage Cars (13 pedidos).</li>\n",
    "    <li>O porte dos clientes é predominantemente medium e small, ficando apenas uma pequena fração para o porte large.</li>\n",
    "    <li>As 3 categorias mais vendidas em ordem de quantidade são: Classic Cars, Vintage Cars e Motorcycles.</li>\n",
    "    <li>69,18% dos valores praticados em relação ao preço sugerido são negativos.</li>\n",
    "    <li>Spain, Australia e Japan são os países com maior média positiva de preço praticado em comparação com o sugerido sendo superiores à \\$12.</li>\n",
    "    <li>A  diferença individual dos 5 produtos com maior diferença negativa é de pelo menos $-2000.</li>\n",
    "    <li>Os países com maior quantidade de pedidso são; USA, Spain e France.</li>\n",
    "    <li>O ticket médio de 2003 e 2004 não variou muito, e o ano com o maior ticket médio é 2005.</li>\n",
    "</ol>"
   ]
  }
 ],
 "metadata": {
  "kernelspec": {
   "display_name": "Python 3 (ipykernel)",
   "language": "python",
   "name": "python3"
  },
  "language_info": {
   "codemirror_mode": {
    "name": "ipython",
    "version": 3
   },
   "file_extension": ".py",
   "mimetype": "text/x-python",
   "name": "python",
   "nbconvert_exporter": "python",
   "pygments_lexer": "ipython3",
   "version": "3.12.7"
  }
 },
 "nbformat": 4,
 "nbformat_minor": 5
}
